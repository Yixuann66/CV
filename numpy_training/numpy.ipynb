{
 "cells": [
  {
   "cell_type": "code",
   "id": "initial_id",
   "metadata": {
    "collapsed": true,
    "ExecuteTime": {
     "end_time": "2025-06-23T07:41:52.681169Z",
     "start_time": "2025-06-23T07:41:52.678001Z"
    }
   },
   "source": [
    "import numpy as np\n",
    "\n",
    "# a = np.array([1, 2, 3])\n",
    "# print(a)\n",
    "# print(type(a))\n",
    "#\n",
    "# a = np.array(20)\n",
    "# print(a)\n",
    "# a = np.arange(1, 10)\n",
    "# print(a)\n",
    "# a = np.arange(1, 10, 2)\n",
    "\n",
    "# print(a)\n",
    "a = np.linspace(1, 10, 5)\n",
    "print(a)\n",
    "\n",
    "\n"
   ],
   "outputs": [
    {
     "name": "stdout",
     "output_type": "stream",
     "text": [
      "[ 1.    3.25  5.5   7.75 10.  ]\n"
     ]
    }
   ],
   "execution_count": 7
  },
  {
   "metadata": {},
   "cell_type": "code",
   "outputs": [],
   "execution_count": null,
   "source": "",
   "id": "6da09ca06af800ff"
  }
 ],
 "metadata": {
  "kernelspec": {
   "display_name": "Python 3",
   "language": "python",
   "name": "python3"
  },
  "language_info": {
   "codemirror_mode": {
    "name": "ipython",
    "version": 2
   },
   "file_extension": ".py",
   "mimetype": "text/x-python",
   "name": "python",
   "nbconvert_exporter": "python",
   "pygments_lexer": "ipython2",
   "version": "2.7.6"
  }
 },
 "nbformat": 4,
 "nbformat_minor": 5
}
